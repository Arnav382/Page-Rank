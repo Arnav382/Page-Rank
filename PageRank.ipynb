{
 "cells": [
  {
   "cell_type": "markdown",
   "metadata": {},
   "source": [
    "### PageRank as a linear algebra problem\n",
    "Let's imagine a micro-internet, with just 4 websites (**A**, **B**,**C**,**D**)\n",
    "\n",
    "The design principle of PageRank is that important websites will be linked to by important websites.\n",
    "This somewhat recursive principle will form the basis of the program."
   ]
  },
  {
   "cell_type": "markdown",
   "metadata": {},
   "source": [
    "Imagine we have 100 **Sheldons'** on our micro-internet, each viewing a single website at a time.\n",
    "Each minute the **Sheldons** follow a link on their website to another site on the micro-internet.\n",
    "\n",
    "After a while, the websites that are most linked to will have more **Sheldon** visiting them, and in the long run, each minute for every **Sheldon** that leaves a website, another will enter keeping the total numbers of **Sheldon** on each website constant.\n",
    "The PageRank is simply the ranking of websites by how many Sheldon they have on them at the end of this process.\n",
    "\n",
    "We represent the number of **Sheldon** on each website with the vector,\n",
    "$$\\mathbf{r} = \\begin{bmatrix} r_A \\\\ r_B \\\\ r_C \\\\ r_D \\\\  \\end{bmatrix}$$\n",
    "And say that the number of Sheldon on each website in minute $i+1$ is related to those at minute $i$ by the matrix transformation"
   ]
  },
  {
   "cell_type": "markdown",
   "metadata": {},
   "source": [
    "$$ \\mathbf{r}^{(i+1)} = L \\,\\mathbf{r}^{(i)}$$\n",
    "with the matrix $L$ taking the form,\n",
    "$$ L = \\begin{bmatrix}\n",
    "L_{A→A} & L_{B→A} & L_{C→A} & L_{D→A}\\\\\n",
    "L_{A→B} & L_{B→B} & L_{C→B} & L_{D→B}\\\\\n",
    "L_{A→C} & L_{B→C} & L_{C→C} & L_{D→C}\\\\\n",
    "L_{A→D} & L_{B→D} & L_{C→D} & L_{D→D}\\\\\n",
    "\\end{bmatrix}\n",
    "$$\n",
    "where the columns represent the probability of leaving a website for any other website, and sum to one.\n",
    "The rows determine how likely you are to enter a website from any other, though these need not add to one.\n",
    "The long time behaviour of this system is when $ \\mathbf{r}^{(i+1)} = \\mathbf{r}^{(i)}$, so we'll drop the superscripts here, and that allows us to write,\n",
    "$$ L \\,\\mathbf{r} = \\mathbf{r}$$\n",
    "\n",
    "which is an eigenvalue equation for the matrix $L$, with eigenvalue 1 (this is guaranteed by the probabalistic structure of the matrix $L$).\n",
    "\n"
   ]
  },
  {
   "cell_type": "code",
   "execution_count": 1,
   "metadata": {},
   "outputs": [
    {
     "data": {
      "text/plain": [
       "array([[0.  , 0.5 , 0.  , 0.  ],\n",
       "       [0.33, 0.  , 0.  , 0.5 ],\n",
       "       [0.33, 0.  , 0.  , 0.5 ],\n",
       "       [0.33, 0.5 , 1.  , 0.  ]])"
      ]
     },
     "execution_count": 1,
     "metadata": {},
     "output_type": "execute_result"
    }
   ],
   "source": [
    "import numpy.linalg as la\n",
    "import numpy as np\n",
    "L=np.array([[0,0.5,0,0],\n",
    "            [0.33,0,0,0.5],\n",
    "            [0.33,0,0,0.5],\n",
    "            [0.33,0.5,1,0]])\n",
    "L"
   ]
  },
  {
   "cell_type": "code",
   "execution_count": 28,
   "metadata": {},
   "outputs": [
    {
     "data": {
      "text/plain": [
       "array([12.01115733, 23.99346109, 23.99346109, 40.00192049])"
      ]
     },
     "execution_count": 28,
     "metadata": {},
     "output_type": "execute_result"
    }
   ],
   "source": [
    "eVals, eVecs = la.eig(L) # Gets the eigenvalues and vectors\n",
    "order = np.absolute(eVals).argsort()[::-1] # Orders them by their eigenvalues\n",
    "eVals = eVals[order]\n",
    "eVecs = eVecs[:,order]\n",
    "\n",
    "r = eVecs[:, 0] # Sets r to be the principal eigenvector\n",
    "100 * np.real(r / np.sum(r))"
   ]
  },
  {
   "cell_type": "code",
   "execution_count": 29,
   "metadata": {},
   "outputs": [
    {
     "data": {
      "text/plain": [
       "array([[-0.22320352,  0.26221488, -0.8278286 , -0.8046482 ],\n",
       "       [-0.44587085, -0.47608349,  0.15064355, -0.        ],\n",
       "       [-0.44587085, -0.47608349,  0.15064355,  0.26553391],\n",
       "       [-0.74335629,  0.69132653,  0.51895362,  0.53106781]])"
      ]
     },
     "execution_count": 29,
     "metadata": {},
     "output_type": "execute_result"
    }
   ],
   "source": [
    "eVecs"
   ]
  },
  {
   "cell_type": "markdown",
   "metadata": {},
   "source": [
    "We can see from this list, the number of Sheldon that we expect to find on each website after long times.\n",
    "Putting them in order of *popularity* (based on this metric), the PageRank of this micro-internet is:\n",
    "\n",
    "**C**, **D**, **A**, **B**\n",
    "\n",
    "First let's set up our initial vector, $\\mathbf{r}^{(0)}$, so that we have our 100  Sheldon equally distributed on each of our 4 websites."
   ]
  },
  {
   "cell_type": "code",
   "execution_count": 30,
   "metadata": {},
   "outputs": [
    {
     "data": {
      "text/plain": [
       "array([25., 25., 25., 25.])"
      ]
     },
     "execution_count": 30,
     "metadata": {},
     "output_type": "execute_result"
    }
   ],
   "source": [
    "r = 100 * np.ones(4) / 4 # Sets up this vector (4 entries of 1/4 × 100 each)\n",
    "r # Shows it's value"
   ]
  },
  {
   "cell_type": "code",
   "execution_count": 31,
   "metadata": {},
   "outputs": [
    {
     "data": {
      "text/plain": [
       "array([12.5 , 20.75, 20.75, 45.75])"
      ]
     },
     "execution_count": 31,
     "metadata": {},
     "output_type": "execute_result"
    }
   ],
   "source": [
    "r = L @ r # Apply matrix L to r\n",
    "r # Show it's value\n",
    "# Re-run this cell multiple times to converge to the correct answer."
   ]
  },
  {
   "cell_type": "code",
   "execution_count": 32,
   "metadata": {},
   "outputs": [
    {
     "name": "stdout",
     "output_type": "stream",
     "text": [
      "54 iterations to convergence.\n"
     ]
    },
    {
     "data": {
      "text/plain": [
       "array([11.23875695, 22.41162654, 22.41162654, 37.42244384])"
      ]
     },
     "execution_count": 32,
     "metadata": {},
     "output_type": "execute_result"
    }
   ],
   "source": [
    "r = 100 * np.ones(4) / 4 # Sets up this vector (4 entries of 1/4 × 100 each)\n",
    "lastR = r\n",
    "r = L @ r\n",
    "i = 0\n",
    "while la.norm(lastR - r) > 0.1 :\n",
    "    lastR = r\n",
    "    r = L @ r\n",
    "    i += 1\n",
    "print(str(i) + \" iterations to convergence.\")\n",
    "r"
   ]
  },
  {
   "cell_type": "markdown",
   "metadata": {},
   "source": [
    "### Setting up a damping parameter\n",
    "\n",
    "The system we just studied converged fairly quickly to the correct answer.\n",
    "Let's consider an extension to our micro-internet where things start to go wrong.\n",
    "\n",
    "$$ M = d \\, L + \\frac{1-d}{n} \\, J $$\n",
    "\n",
    "Say a new website is added to the micro-internet: **E** Website.\n",
    "This website is linked to by **C** and only links to itself.\n",
    "\n"
   ]
  },
  {
   "cell_type": "code",
   "execution_count": 33,
   "metadata": {},
   "outputs": [],
   "source": [
    "L2 = np.array([[0,1/2,1/3, 0,0],\n",
    "               [1/3,0,0,0, 1/2],\n",
    "               [1/3, 1/2, 0,1,0],\n",
    "               [1/3,0,1/3,0,1/2],\n",
    "               [0,0,0,0,0]])"
   ]
  },
  {
   "cell_type": "code",
   "execution_count": 34,
   "metadata": {},
   "outputs": [
    {
     "name": "stdout",
     "output_type": "stream",
     "text": [
      "29 iterations to convergence.\n"
     ]
    },
    {
     "data": {
      "text/plain": [
       "array([0.21872558, 0.08532795, 0.4326708 , 0.25412119, 0.        ])"
      ]
     },
     "execution_count": 34,
     "metadata": {},
     "output_type": "execute_result"
    }
   ],
   "source": [
    "r = 100 * np.ones(5) / 5 # Sets up this vector (6 entries of 1/6 × 100 each)\n",
    "lastR = r\n",
    "r = L2 @ r\n",
    "i = 0\n",
    "while la.norm(lastR - r) > 0.1 :\n",
    "    lastR = r\n",
    "    r = L2 @ r\n",
    "    i += 1\n",
    "print(str(i) + \" iterations to convergence.\")\n",
    "r"
   ]
  },
  {
   "cell_type": "code",
   "execution_count": 35,
   "metadata": {},
   "outputs": [],
   "source": [
    "d = 0.5\n",
    "M = d * L2 + (1-d)/5 * np.ones([5,5])"
   ]
  },
  {
   "cell_type": "code",
   "execution_count": 36,
   "metadata": {},
   "outputs": [
    {
     "name": "stdout",
     "output_type": "stream",
     "text": [
      "85 iterations to convergence.\n"
     ]
    },
    {
     "data": {
      "text/plain": [
       "array([0.24364588, 0.20267903, 0.36295249, 0.26637608, 0.1265945 ])"
      ]
     },
     "execution_count": 36,
     "metadata": {},
     "output_type": "execute_result"
    }
   ],
   "source": [
    "r = 100 * np.ones(5) / 5 # Sets up this vector (6 entries of 1/6 × 100 each)\n",
    "lastR = r\n",
    "r = M @ r\n",
    "i = 0\n",
    "while la.norm(lastR - r) > 0.03 :\n",
    "    lastR = r\n",
    "    r = M @ r\n",
    "    i += 1\n",
    "print(str(i) + \" iterations to convergence.\")\n",
    "r"
   ]
  },
  {
   "cell_type": "markdown",
   "metadata": {},
   "source": [
    "## creating a customised internet page rank"
   ]
  },
  {
   "cell_type": "code",
   "execution_count": 37,
   "metadata": {},
   "outputs": [],
   "source": [
    "import numpy as np\n",
    "import numpy.linalg as la\n",
    "np.set_printoptions(suppress=True)"
   ]
  },
  {
   "cell_type": "code",
   "execution_count": 2,
   "metadata": {},
   "outputs": [],
   "source": [
    "import numpy as np\n",
    "import numpy.linalg as la\n",
    "np.set_printoptions(suppress=True)\n",
    "\n",
    "## function to generate a randomised internet with n number of websites\n",
    "def generate_internet(n) :\n",
    "    c = np.full([n,n], np.arange(n))\n",
    "    c = (abs(np.random.standard_cauchy([n,n])/2) > (np.abs(c - c.T) + 1)) + 0\n",
    "    c = (c+1e-10) / np.sum((c+1e-10), axis=0)\n",
    "    return c\n",
    "\n",
    "## finds out the page rank with the link probability matrix with a damping factor of d. \n",
    "## d equals to 1 indicate a regular link matrix\n",
    "def pageRank(linkMatrix, d) :\n",
    "    n = linkMatrix.shape[0]\n",
    "    M = d * linkMatrix + (1-d)/n * np.ones([n, n])\n",
    "    r = 100 * np.ones(n) / n # Sets up this vector (n entries of 1/n × 100 each)\n",
    "    last = r\n",
    "    r = M @ r\n",
    "    while la.norm(last - r) > 0.01 :\n",
    "        last = r\n",
    "        r = M @ r\n",
    "    return r"
   ]
  },
  {
   "cell_type": "code",
   "execution_count": 3,
   "metadata": {},
   "outputs": [
    {
     "data": {
      "text/plain": [
       "array([[0. , 0. , 0.1, 0.1, 0. , 0. , 0. , 0. , 0. , 0.1],\n",
       "       [0. , 0. , 0.1, 0.1, 0. , 0.5, 0. , 0. , 0. , 0.1],\n",
       "       [0. , 0. , 0.1, 0.1, 0. , 0. , 0. , 0. , 0. , 0.1],\n",
       "       [0. , 0. , 0.1, 0.1, 0. , 0. , 0. , 0. , 0. , 0.1],\n",
       "       [1. , 0.5, 0.1, 0.1, 1. , 0. , 0. , 0. , 0. , 0.1],\n",
       "       [0. , 0. , 0.1, 0.1, 0. , 0.5, 0. , 0. , 0. , 0.1],\n",
       "       [0. , 0.5, 0.1, 0.1, 0. , 0. , 1. , 0. , 0. , 0.1],\n",
       "       [0. , 0. , 0.1, 0.1, 0. , 0. , 0. , 0. , 0. , 0.1],\n",
       "       [0. , 0. , 0.1, 0.1, 0. , 0. , 0. , 1. , 0. , 0.1],\n",
       "       [0. , 0. , 0.1, 0.1, 0. , 0. , 0. , 0. , 1. , 0.1]])"
      ]
     },
     "execution_count": 3,
     "metadata": {},
     "output_type": "execute_result"
    }
   ],
   "source": [
    "a=10\n",
    "q=generate_internet(a)\n",
    "q"
   ]
  },
  {
   "cell_type": "code",
   "execution_count": 4,
   "metadata": {},
   "outputs": [
    {
     "data": {
      "text/plain": [
       "array([ 0.00000002,  0.00000004,  0.00000002,  0.00000002, 59.99999316,\n",
       "        0.00000004, 40.00000658,  0.00000002,  0.00000004,  0.00000006])"
      ]
     },
     "execution_count": 4,
     "metadata": {},
     "output_type": "execute_result"
    }
   ],
   "source": [
    "eVals, eVecs = la.eig(q) # Gets the eigenvalues and vectors\n",
    "order = np.absolute(eVals).argsort()[::-1] # Orders them by their eigenvalues\n",
    "eVals = eVals[order]\n",
    "eVecs = eVecs[:,order]\n",
    "\n",
    "r = eVecs[:, 0]\n",
    "100 * np.real(r / np.sum(r))"
   ]
  },
  {
   "cell_type": "code",
   "execution_count": 10,
   "metadata": {},
   "outputs": [
    {
     "data": {
      "text/plain": [
       "array([ 6.99636442,  8.74567315,  6.99636442,  6.99636442, 19.23872194,\n",
       "        8.74567315, 14.57483319,  6.99636442,  9.79502521, 10.91461569])"
      ]
     },
     "execution_count": 10,
     "metadata": {},
     "output_type": "execute_result"
    }
   ],
   "source": [
    "pageRank(q,0.4)"
   ]
  },
  {
   "cell_type": "code",
   "execution_count": null,
   "metadata": {},
   "outputs": [],
   "source": []
  }
 ],
 "metadata": {
  "kernelspec": {
   "display_name": "Python 3 (ipykernel)",
   "language": "python",
   "name": "python3"
  },
  "language_info": {
   "codemirror_mode": {
    "name": "ipython",
    "version": 3
   },
   "file_extension": ".py",
   "mimetype": "text/x-python",
   "name": "python",
   "nbconvert_exporter": "python",
   "pygments_lexer": "ipython3",
   "version": "3.9.7"
  }
 },
 "nbformat": 4,
 "nbformat_minor": 4
}
